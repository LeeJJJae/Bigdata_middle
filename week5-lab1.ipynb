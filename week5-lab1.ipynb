{
 "cells": [
  {
   "cell_type": "code",
   "execution_count": 1,
   "id": "5942c927-4146-43e3-b7a6-881b6cb5eee9",
   "metadata": {},
   "outputs": [],
   "source": [
    "from pyspark.sql import SparkSession\n",
    "spark_session = SparkSession.builder.master(\"local\").appName(\"rdd-op-test1\").getOrCreate()"
   ]
  },
  {
   "cell_type": "markdown",
   "id": "72732dc7-b6ae-496c-acb5-20604200e8a4",
   "metadata": {},
   "source": [
    "## 온라인 상점에서 고객별로 주문한 상품들의 가격이 아래와 같이 제시되어 있다. 아래 데이터는 (고객ID, 상품명, 상품 가격) 형식이다. 이에 대해 다음 문제들을 풀어보시오."
   ]
  },
  {
   "cell_type": "code",
   "execution_count": 7,
   "id": "ef08ebc8-96c7-4ac8-bbd0-1974ab449257",
   "metadata": {},
   "outputs": [
    {
     "data": {
      "text/plain": [
       "[(1, 'milk', 45),\n",
       " (2, 'beer', 75),\n",
       " (3, 'apple', 35),\n",
       " (4, 'lemon', 45),\n",
       " (5, 'soju', 85)]"
      ]
     },
     "execution_count": 7,
     "metadata": {},
     "output_type": "execute_result"
    }
   ],
   "source": [
    "orders = spark_session.sparkContext.parallelize([\n",
    "    (1, 'milk', 4500),\n",
    "    (2, 'beer', 7500),\n",
    "    (3, 'apple', 3500),\n",
    "    (4, 'lemon', 4500),\n",
    "    (5, 'soju', 8500)\n",
    "])\n",
    "\n",
    "orders.collect()"
   ]
  },
  {
   "cell_type": "markdown",
   "id": "3cd22c85-259e-4662-8f0d-a45bb440129b",
   "metadata": {},
   "source": [
    "### 1. 고객 ID가 짝수인 데이터만 필터링해서 even_orders rdd를 생성하시오\r\n"
   ]
  },
  {
   "cell_type": "code",
   "execution_count": 9,
   "id": "61eaaf51-c4b8-466b-a6f3-e691a120fded",
   "metadata": {},
   "outputs": [
    {
     "data": {
      "text/plain": [
       "[(2, 'beer', 75), (4, 'lemon', 45)]"
      ]
     },
     "execution_count": 9,
     "metadata": {},
     "output_type": "execute_result"
    }
   ],
   "source": []
  },
  {
   "cell_type": "markdown",
   "id": "e5cda735-9f68-4982-867d-b99d52bc5db0",
   "metadata": {},
   "source": [
    "### 2. 상품의 가격에 대해 10% 할인된 가격을 적용해서 save_orders rdd를 생성하시오."
   ]
  },
  {
   "cell_type": "code",
   "execution_count": 14,
   "id": "3129e658-1b2e-4688-93a9-e090d0be0327",
   "metadata": {},
   "outputs": [
    {
     "data": {
      "text/plain": [
       "[(1, 'milk', 40.5),\n",
       " (2, 'beer', 67.5),\n",
       " (3, 'apple', 31.5),\n",
       " (4, 'lemon', 40.5),\n",
       " (5, 'soju', 76.5)]"
      ]
     },
     "execution_count": 14,
     "metadata": {},
     "output_type": "execute_result"
    }
   ],
   "source": []
  },
  {
   "cell_type": "markdown",
   "id": "afb4d874-36cc-42c2-97ca-ede821dc89e6",
   "metadata": {},
   "source": [
    "### 3. 10% 할인된 가격이 5000원 이하인 상품명들을 하나의 리스트로하는 items rdd를 생성하시오."
   ]
  },
  {
   "cell_type": "code",
   "execution_count": null,
   "id": "d488daa9-9e8f-40a8-9bc1-63faa2a7390b",
   "metadata": {},
   "outputs": [],
   "source": []
  }
 ],
 "metadata": {
  "kernelspec": {
   "display_name": "Python 3 (ipykernel)",
   "language": "python",
   "name": "python3"
  },
  "language_info": {
   "codemirror_mode": {
    "name": "ipython",
    "version": 3
   },
   "file_extension": ".py",
   "mimetype": "text/x-python",
   "name": "python",
   "nbconvert_exporter": "python",
   "pygments_lexer": "ipython3",
   "version": "3.11.5"
  }
 },
 "nbformat": 4,
 "nbformat_minor": 5
}
