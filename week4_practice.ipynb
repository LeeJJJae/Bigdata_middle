{
 "cells": [
  {
   "cell_type": "markdown",
   "id": "a95d13fa-9245-481f-998f-e3f92125b010",
   "metadata": {},
   "source": [
    "## 실습 문제 : 다음 라인들을 실행 가능하도록 스파크 세션 및 스파크 컨텍스트를 만들어 실행하도록 코드를 추가해라.  이때 collection의 첫번째 1개를 출력하게 하라.\n",
    "\n",
    "- textFile = sc.textFile(\"./data/testdata.txt\")\n",
    "- words = textFile.flatMap(lambda line: line.split(\" \"))\n",
    "- mapWords = words.map(lambda word: (word, 1)) \n",
    "- redWords = mapWords.reduceByKey(lambda a, b: a + b) \n",
    "- collection = redWords.collect()\t\t\t\t\t\t//(action)"
   ]
  },
  {
   "cell_type": "code",
   "execution_count": 5,
   "id": "0aa1ac0e-1fc5-4f42-90ac-a87039f9b140",
   "metadata": {},
   "outputs": [
    {
     "name": "stdout",
     "output_type": "stream",
     "text": [
      "('#', 31)\n"
     ]
    }
   ],
   "source": []
  },
  {
   "cell_type": "code",
   "execution_count": null,
   "id": "8bd20611-497c-4e47-804d-1e8f7d6a2743",
   "metadata": {},
   "outputs": [],
   "source": []
  }
 ],
 "metadata": {
  "kernelspec": {
   "display_name": "Python 3 (ipykernel)",
   "language": "python",
   "name": "python3"
  },
  "language_info": {
   "codemirror_mode": {
    "name": "ipython",
    "version": 3
   },
   "file_extension": ".py",
   "mimetype": "text/x-python",
   "name": "python",
   "nbconvert_exporter": "python",
   "pygments_lexer": "ipython3",
   "version": "3.13.7"
  }
 },
 "nbformat": 4,
 "nbformat_minor": 5
}
