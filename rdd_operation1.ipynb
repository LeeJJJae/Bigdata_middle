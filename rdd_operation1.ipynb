{
 "cells": [
  {
   "cell_type": "markdown",
   "id": "c713a2e9-2622-4bc0-95b6-d027655e66c8",
   "metadata": {},
   "source": [
    "# RDD 연산 - 1\n",
    "- Transformation 과 Action 으로 구분됨\n",
    "    - Transformation : RDD는 immutable (불변) 특성을 가짐.  변겨을 위해서는 새로운 RDD를 생성하고 변경\n",
    "    - Action : RDD의 내용을 조회, 저장\n",
    "- Sparse 연산 : RDD의 개별 레코드를 변경할 수 없음. 모든 레코드에 대해서 동일하게 적용되는 연산. 리니지를 단순화하기 위해. \n",
    "- Lazy Evaluation 또는 Lazy Execution : \n",
    "    - Transformation 연산은 바로 실행되지 않고, parsing 만 됨. \n",
    "    - Action이 수행될때 Action에 필요한 RDD를 만들기 위한 Transformation 이 수행됨. \n",
    "    - Driver는 Action 연산을 실행하기 위해 RDD 생성 DAG를 만들고 최적화 <- 작업양 최소화 및 Shuffling시 데이터 이동 최소화\n"
   ]
  },
  {
   "cell_type": "code",
   "execution_count": 1,
   "id": "18d14cec-5858-4b78-a498-af33fe21064f",
   "metadata": {},
   "outputs": [],
   "source": [
    "from pyspark.sql import SparkSession\n",
    "spark_session = SparkSession.builder.master(\"local\").appName(\"rdd-op-test1\").getOrCreate()"
   ]
  },
  {
   "cell_type": "code",
   "execution_count": 2,
   "id": "0ac0b3ba-407e-4c16-ac24-60a04271b1cb",
   "metadata": {},
   "outputs": [],
   "source": [
    "rdd1 = spark_session.sparkContext.parallelize([0,1,2,3,4,5,6,7,8,9])\n",
    "rdd2 = rdd1.filter(lambda x: x%2)"
   ]
  },
  {
   "cell_type": "code",
   "execution_count": 3,
   "id": "fe7ac07b-8ff6-470c-b12a-9f8302da8eb5",
   "metadata": {
    "tags": []
   },
   "outputs": [
    {
     "data": {
      "text/plain": [
       "[1, 3, 5, 7, 9]"
      ]
     },
     "execution_count": 3,
     "metadata": {},
     "output_type": "execute_result"
    }
   ],
   "source": [
    "rdd2.collect()"
   ]
  },
  {
   "cell_type": "markdown",
   "id": "17b33882-09b3-4a33-909d-fa8d84f05fed",
   "metadata": {},
   "source": [
    "# RDD 지속성 및 재사용\n",
    "    - RDD는 익스큐터(executor)의 메모리에 생성됨\n",
    "    - 생성된 RDD는 더아상 참조되지 않으면 (사용되지 않으면) 삭제됨.\n",
    "    - 이후 Action연산이 수행되기 위해 다시 RDD를 생성해야 함. \n",
    "    - Persist()를 이용하면 메모리에 지속됨"
   ]
  },
  {
   "cell_type": "code",
   "execution_count": 4,
   "id": "e3354cbd-403e-4f76-adef-4b52595fa449",
   "metadata": {},
   "outputs": [
    {
     "data": {
      "text/plain": [
       "PythonRDD[3] at RDD at PythonRDD.scala:56"
      ]
     },
     "execution_count": 4,
     "metadata": {},
     "output_type": "execute_result"
    }
   ],
   "source": [
    "prdd1 = spark_session.sparkContext.parallelize([0,1,2,3,4,5,6,7,8,9])\n",
    "prdd2 = rdd1.filter(lambda x: x%2)\n",
    "prdd2.persist()"
   ]
  },
  {
   "cell_type": "code",
   "execution_count": 5,
   "id": "c224e80e-d077-411e-b804-2fe88efbd187",
   "metadata": {},
   "outputs": [
    {
     "data": {
      "text/plain": [
       "[1, 3, 5, 7, 9]"
      ]
     },
     "execution_count": 5,
     "metadata": {},
     "output_type": "execute_result"
    }
   ],
   "source": [
    "rdd2.collect()"
   ]
  },
  {
   "cell_type": "markdown",
   "id": "fd8dfba3-4ffb-4131-a9fd-d92b7093a971",
   "metadata": {},
   "source": [
    "# RDD의 유형\n",
    "- **PairRDD**: (Key, Value) 쌍으로 구성된 RDD. `reduceByKey`, `join` 등 키 기반 연산에 특화.\n",
    "- **DoubleRDD**: 숫자(Double) 데이터로 구성된 RDD. `mean`, `sum`, `stdev` 등 통계 연산 제공.\n",
    "- **DataFrame**: 테이블 형식의 구조화된 데이터 처리를 위한 RDD 기반 API. 스키마와 Catalyst 옵티마이저를 통해 성능 최적화.\n",
    "- **SequenceFileRDD**: 하둡의 (Key, Value) 이진 파일 형식인 SequenceFile을 다루는 RDD.\n",
    "- **HadoopRDD / NewHadoopRDD**: HDFS 등 하둡 데이터 소스를 읽을 때 생성. (New는 개선된 MapReduce API 사용)\n",
    "- **CoGroupRDD**: 여러 PairRDD를 동일 키 기준으로 그룹화할 때 생성. `cogroup` 연산의 결과.\n",
    "- **JdbcRDD**: JDBC를 통해 관계형 데이터베이스에서 데이터를 병렬로 읽을 때 생성.\n",
    "- **PartitioningPruningRDD**: 데이터 파티션 정보를 이용, 불필요한 파티션 스캔을 건너뛰어 성능을 최적화하는 RDD.\n",
    "- **ShuffledRDD**: `groupByKey` 등 데이터 재분배(셔플)가 발생하는 연산의 결과로 생성되는 중간 RDD.\n",
    "- **UnionRDD**: 둘 이상의 RDD를 하나로 통합할 때 생성. 각 부모 RDD의 파티션을 유지하며 논리적으로 연결."
   ]
  },
  {
   "cell_type": "markdown",
   "id": "4c8e4822-0dcf-47e3-8496-d844e998d745",
   "metadata": {},
   "source": [
    "# 기본 RDD Transportation 연산\n",
    "\n",
    "- `map(func)`: 각 요소에 함수를 적용.\n",
    "- `flatMap(func)`: 각 요소에 함수 적용 후 결과를 펼침(flatten).\n",
    "- `filter(func)`: 함수 결과가 True인 요소만 필터링.\n",
    "- `distinct()`: 중복 요소 제거.\n",
    "- `groupBy(func)`: 함수를 기준으로 요소 그룹화.\n",
    "- `sortBy(keyfunc)`: 주어진 함수(keyfunc)가 반환하는 키를 기준으로 RDD의 요소를 정렬\n"
   ]
  },
  {
   "cell_type": "markdown",
   "id": "14a40f4f-5311-4f0c-a69f-89cb73bb0bec",
   "metadata": {},
   "source": [
    "# 기본 RDD Action 연산\n",
    "- `collect()`: RDD의 모든 요소를 드라이버(Driver)의 메모리로 가져와 리스트로 반환 (주의: 대용량 데이터에 사용 시 메모리 부족 발생 가능)\n",
    "- `count()`: RDD에 포함된 요소의 총 개수를 반환\n",
    "- `take(n)`: RDD에서 `n`개의 요소를 가져와 리스트로 반환\n",
    "- `first()`: RDD의 첫 번째 요소를 반환 (`take(1)`과 동일한 결과를 내지만, 더 간결한 표현)\n",
    "- `reduce(func)`: 주어진 함수(`func`)를 사용하여 RDD의 모든 요소를 집계(aggregate)하여 최종 결과값 하나를 반환\n",
    "- `foreach(func)`: RDD의 각 요소에 주어진 함수를 적용 (반환값이 없으며, 각 요소에 특정 작업을 수행할 때 사용)\n",
    "- `saveAsTextFile(path)`: RDD의 내용을 지정된 경로(`path`)에 텍스트 파일로 저장"
   ]
  },
  {
   "cell_type": "code",
   "execution_count": 25,
   "id": "8a97caa1-ac0a-490a-8769-e8003218d87e",
   "metadata": {},
   "outputs": [
    {
     "data": {
      "text/plain": [
       "[\"A MIDSUMMER-NIGHT'S DREAM\",\n",
       " '',\n",
       " 'Now , fair Hippolyta , our nuptial hour ',\n",
       " 'Draws on apace : four happy days bring in ',\n",
       " 'Another moon ; but O ! methinks how slow ']"
      ]
     },
     "execution_count": 25,
     "metadata": {},
     "output_type": "execute_result"
    }
   ],
   "source": [
    "shakespeare = spark_session.sparkContext.textFile(\"./data/shakespeare.txt\")\n",
    "shakespeare.take(5)"
   ]
  },
  {
   "cell_type": "code",
   "execution_count": 26,
   "id": "594441af-c329-476b-a86d-08c8660120b9",
   "metadata": {},
   "outputs": [
    {
     "data": {
      "text/plain": [
       "['A', \"MIDSUMMER-NIGHT'S\", 'DREAM', '', 'Now']"
      ]
     },
     "execution_count": 26,
     "metadata": {},
     "output_type": "execute_result"
    }
   ],
   "source": [
    "words = shakespeare.flatMap(lambda x: x.split(' '))\n",
    "words.take(5)"
   ]
  },
  {
   "cell_type": "code",
   "execution_count": 27,
   "id": "5b2025e4-695d-4876-ad25-7603524b9721",
   "metadata": {},
   "outputs": [
    {
     "data": {
      "text/plain": [
       "['a', \"midsummer-night's\", 'dream', '', 'now']"
      ]
     },
     "execution_count": 27,
     "metadata": {},
     "output_type": "execute_result"
    }
   ],
   "source": [
    "lowercase = words.map(lambda x: x.lower())\n",
    "lowercase.take(5)"
   ]
  },
  {
   "cell_type": "code",
   "execution_count": 28,
   "id": "1bbdb6af-23e7-4afc-a9c8-dbb6f3bc6f58",
   "metadata": {},
   "outputs": [
    {
     "data": {
      "text/plain": [
       "[\"midsummer-night's\", 'dream', 'now', 'fair', 'hippolyta']"
      ]
     },
     "execution_count": 28,
     "metadata": {},
     "output_type": "execute_result"
    }
   ],
   "source": [
    "longwords = lowercase.filter(lambda x: len(x) > 2)\n",
    "longwords.take(5)"
   ]
  },
  {
   "cell_type": "code",
   "execution_count": 29,
   "id": "2d73022a-13bf-4416-ad70-8a1cb10286e4",
   "metadata": {},
   "outputs": [
    {
     "data": {
      "text/plain": [
       "632856"
      ]
     },
     "execution_count": 29,
     "metadata": {},
     "output_type": "execute_result"
    }
   ],
   "source": [
    "longwords_cnt = longwords.count()\n",
    "longwords_cnt"
   ]
  },
  {
   "cell_type": "code",
   "execution_count": 30,
   "id": "99300c56-3e2c-4907-9010-d5bc9f30f1fd",
   "metadata": {},
   "outputs": [
    {
     "data": {
      "text/plain": [
       "28734"
      ]
     },
     "execution_count": 30,
     "metadata": {},
     "output_type": "execute_result"
    }
   ],
   "source": [
    "distinctwords = longwords.distinct()\n",
    "distinctwords_cnt = distinctwords.count()\n",
    "distinctwords_cnt"
   ]
  },
  {
   "cell_type": "code",
   "execution_count": 31,
   "id": "a75b7d76-1a41-461a-a607-bee6d79be6a8",
   "metadata": {},
   "outputs": [
    {
     "data": {
      "text/plain": [
       "35"
      ]
     },
     "execution_count": 31,
     "metadata": {},
     "output_type": "execute_result"
    }
   ],
   "source": [
    "groupby_firstletter = distinctwords.groupBy(lambda x: x[0].lower())\n",
    "groupby_firstletter.count()"
   ]
  },
  {
   "cell_type": "code",
   "execution_count": 32,
   "id": "264de4ea-a55c-4bf2-8f24-236dd471c825",
   "metadata": {},
   "outputs": [
    {
     "data": {
      "text/plain": [
       "[('m', <pyspark.resultiterable.ResultIterable at 0x7114ae0263f0>),\n",
       " ('d', <pyspark.resultiterable.ResultIterable at 0x7114ae026d70>),\n",
       " ('n', <pyspark.resultiterable.ResultIterable at 0x7114ae05cef0>)]"
      ]
     },
     "execution_count": 32,
     "metadata": {},
     "output_type": "execute_result"
    }
   ],
   "source": [
    "groupby_firstletter.take(3)"
   ]
  },
  {
   "cell_type": "code",
   "execution_count": 40,
   "id": "d6f84359-8dbb-40cd-aaf1-3780a8c92d51",
   "metadata": {},
   "outputs": [
    {
     "name": "stdout",
     "output_type": "stream",
     "text": [
      "Key: m, Values: [\"midsummer-night's\", 'moon', 'methinks', \"man's\", 'merriments']...\n",
      "Key: d, Values: ['dream', 'draws', 'days', 'desires', 'dame']...\n",
      "Key: n, Values: ['now', 'nuptial', 'night', 'nights', 'new-bent']...\n"
     ]
    }
   ],
   "source": [
    "grouped_as_list = groupby_firstletter.map(lambda kv: (kv[0], list(kv[1])))\n",
    "result = grouped_as_list.take(3)\n",
    "for key, values in result:\n",
    "    print(f\"Key: {key}, Values: {values[:5]}...\") # 값은 일부만 출력"
   ]
  },
  {
   "cell_type": "code",
   "execution_count": 33,
   "id": "9827350a-ea40-4a7b-8c75-5510d73d4539",
   "metadata": {},
   "outputs": [
    {
     "data": {
      "text/plain": [
       "['zwaggered',\n",
       " 'zur',\n",
       " 'zounds',\n",
       " 'zone',\n",
       " 'zodiacs',\n",
       " 'zodiac',\n",
       " 'zephyrs',\n",
       " 'zenith',\n",
       " 'zenelophon',\n",
       " 'zed']"
      ]
     },
     "execution_count": 33,
     "metadata": {},
     "output_type": "execute_result"
    }
   ],
   "source": [
    "distinctwords_sort = distinctwords.sortBy(lambda x: x, ascending=False)\n",
    "distinctwords_sort.take(10)"
   ]
  },
  {
   "cell_type": "code",
   "execution_count": 34,
   "id": "0927b8e2-f790-4648-891b-da94f04f2e9d",
   "metadata": {},
   "outputs": [
    {
     "data": {
      "text/plain": [
       "['azure',\n",
       " \"azur'd\",\n",
       " \"'zounds\",\n",
       " 'lysander',\n",
       " 'eyes',\n",
       " 'aye',\n",
       " 'hymns',\n",
       " 'eye',\n",
       " 'sympathy',\n",
       " 'myself']"
      ]
     },
     "execution_count": 34,
     "metadata": {},
     "output_type": "execute_result"
    }
   ],
   "source": [
    "distinctwords_sort = distinctwords.sortBy(lambda x: x[1], ascending=False)\n",
    "distinctwords_sort.take(10)"
   ]
  },
  {
   "cell_type": "code",
   "execution_count": 35,
   "id": "dbbb4b27-2fbf-4200-a5e1-ddd74d29437b",
   "metadata": {},
   "outputs": [
    {
     "data": {
      "text/plain": [
       "[\"midsummer-night's\",\n",
       " 'dream',\n",
       " 'now',\n",
       " 'fair',\n",
       " 'hippolyta',\n",
       " 'our',\n",
       " 'nuptial',\n",
       " 'hour',\n",
       " 'draws',\n",
       " 'apace']"
      ]
     },
     "execution_count": 35,
     "metadata": {},
     "output_type": "execute_result"
    }
   ],
   "source": [
    "#distinctwords.collect()\n",
    "distinctwords.take(10)"
   ]
  },
  {
   "cell_type": "code",
   "execution_count": 36,
   "id": "8e83edbb-d935-4997-baea-9fb35e6af4e0",
   "metadata": {},
   "outputs": [
    {
     "data": {
      "text/plain": [
       "['zwaggered',\n",
       " 'zur',\n",
       " 'zounds',\n",
       " 'zone',\n",
       " 'zodiacs',\n",
       " 'zodiac',\n",
       " 'zephyrs',\n",
       " 'zenith',\n",
       " 'zenelophon',\n",
       " 'zed']"
      ]
     },
     "execution_count": 36,
     "metadata": {},
     "output_type": "execute_result"
    }
   ],
   "source": [
    "distinctwords.top(10)"
   ]
  },
  {
   "cell_type": "code",
   "execution_count": 37,
   "id": "3465626c-95fa-4ff8-99fa-083538f83c9a",
   "metadata": {},
   "outputs": [
    {
     "data": {
      "text/plain": [
       "\"midsummer-night's\""
      ]
     },
     "execution_count": 37,
     "metadata": {},
     "output_type": "execute_result"
    }
   ],
   "source": [
    "distinctwords.first()"
   ]
  },
  {
   "cell_type": "code",
   "execution_count": 38,
   "id": "10cf7ddd-79ce-4e3d-8ed2-eccf48047927",
   "metadata": {},
   "outputs": [
    {
     "data": {
      "text/plain": [
       "45"
      ]
     },
     "execution_count": 38,
     "metadata": {},
     "output_type": "execute_result"
    }
   ],
   "source": [
    "numbers = spark_session.sparkContext.parallelize([0,1,2,3,4,5,6,7,8,9])\n",
    "numbers.reduce(lambda x, y: x+y)\n"
   ]
  },
  {
   "cell_type": "code",
   "execution_count": null,
   "id": "236cc094-4140-4d36-a59f-814259ba23a6",
   "metadata": {},
   "outputs": [],
   "source": []
  }
 ],
 "metadata": {
  "kernelspec": {
   "display_name": "Python 3 (ipykernel)",
   "language": "python",
   "name": "python3"
  },
  "language_info": {
   "codemirror_mode": {
    "name": "ipython",
    "version": 3
   },
   "file_extension": ".py",
   "mimetype": "text/x-python",
   "name": "python",
   "nbconvert_exporter": "python",
   "pygments_lexer": "ipython3",
   "version": "3.13.7"
  }
 },
 "nbformat": 4,
 "nbformat_minor": 5
}
