{
 "cells": [
  {
   "cell_type": "markdown",
   "id": "d1cf386b-3589-406a-9e32-b1d08916cdb5",
   "metadata": {},
   "source": [
    "## #다음 testfile1.txt, testfile2.txt, testfile3.txt에 대해서 질문에 답하시오. \n",
    "1. testfile1.txt 에 대해서 각 사람별 평균을 구하시오.\n",
    "2. testfile2.txt, testfile3.txt 에 공통적으로 나타나는 단어에 대해 빈도수를 내림차순으로 출력하시오. "
   ]
  },
  {
   "cell_type": "raw",
   "id": "00ffb59b-31ed-4cf3-94cc-18fd213ae017",
   "metadata": {},
   "source": [
    "---- testfile1.txt ----\n",
    "파일설명: 이름, 중간 및 기말시험 점수\n",
    "\n",
    "seokil, 50\n",
    "seokil, 60\n",
    "gildong, 60\n",
    "gildong, 80\n",
    "-----------------------\n",
    "\n",
    "---- testfile2.txt ----\n",
    "pairRDD = sc.parallelize( [('panda', 0), ('pink', 3), ('pirate', 3), ('panda', 1), ('pink', 4)] )\n",
    "result1 = pairRDD.groupByKey()\n",
    "result2 = result1.map(lambda x : (x[0], len(x[1])))\n",
    "result3 = result1.map(lambda x : (x[0], list(x[1])))\n",
    "\n",
    "print(result2.collect())\n",
    "print(result3.collect())\n",
    "-----------------------\n",
    "\n",
    "---- testfile3.txt ----\n",
    "sc = SparkContext(conf=conf)\n",
    "\n",
    "pairRDD1 = sc.parallelize( [('panda', 0), ('pink', 3)])\n",
    "pairRDD2 = sc.parallelize( [('pirate', 3), ('panda', 1), ('pink', 4)] )\n",
    "result1 = pairRDD1.cogroup(pairRDD2)\n",
    "\n",
    "print(result1.collect())\n",
    "-----------------------"
   ]
  }
 ],
 "metadata": {
  "kernelspec": {
   "display_name": "Python 3 (ipykernel)",
   "language": "python",
   "name": "python3"
  },
  "language_info": {
   "codemirror_mode": {
    "name": "ipython",
    "version": 3
   },
   "file_extension": ".py",
   "mimetype": "text/x-python",
   "name": "python",
   "nbconvert_exporter": "python",
   "pygments_lexer": "ipython3",
   "version": "3.11.5"
  }
 },
 "nbformat": 4,
 "nbformat_minor": 5
}
