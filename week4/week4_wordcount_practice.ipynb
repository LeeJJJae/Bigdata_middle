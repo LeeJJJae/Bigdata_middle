{
 "cells": [
  {
   "cell_type": "code",
   "execution_count": 1,
   "id": "2b79d192-15a5-4c60-982a-dceaffcc4aaf",
   "metadata": {},
   "outputs": [],
   "source": [
    "import sys, re\n",
    "from pyspark.sql import SparkSession\n",
    "spark_session = SparkSession.builder.master(\"local\").appName(\"week4-practice-app\").getOrCreate()"
   ]
  },
  {
   "cell_type": "code",
   "execution_count": 2,
   "id": "6cfd7f0a-776f-4b52-b59d-3a5f1cdacbc4",
   "metadata": {},
   "outputs": [
    {
     "data": {
      "text/html": [
       "\n",
       "        <div>\n",
       "            <p><b>SparkContext</b></p>\n",
       "\n",
       "            <p><a href=\"http://6db0f57ef258:4040\">Spark UI</a></p>\n",
       "\n",
       "            <dl>\n",
       "              <dt>Version</dt>\n",
       "                <dd><code>v4.0.1</code></dd>\n",
       "              <dt>Master</dt>\n",
       "                <dd><code>local</code></dd>\n",
       "              <dt>AppName</dt>\n",
       "                <dd><code>week4-practice-app</code></dd>\n",
       "            </dl>\n",
       "        </div>\n",
       "        "
      ],
      "text/plain": [
       "<SparkContext master=local appName=week4-practice-app>"
      ]
     },
     "execution_count": 2,
     "metadata": {},
     "output_type": "execute_result"
    }
   ],
   "source": [
    "spark_session.sparkContext"
   ]
  },
  {
   "cell_type": "code",
   "execution_count": 4,
   "id": "83e63d47-7509-4ae7-bdbf-f086cd49a67d",
   "metadata": {},
   "outputs": [
    {
     "data": {
      "text/html": [
       "\n",
       "            <div>\n",
       "                <p><b>SparkSession - in-memory</b></p>\n",
       "                \n",
       "        <div>\n",
       "            <p><b>SparkContext</b></p>\n",
       "\n",
       "            <p><a href=\"http://6db0f57ef258:4040\">Spark UI</a></p>\n",
       "\n",
       "            <dl>\n",
       "              <dt>Version</dt>\n",
       "                <dd><code>v4.0.1</code></dd>\n",
       "              <dt>Master</dt>\n",
       "                <dd><code>local</code></dd>\n",
       "              <dt>AppName</dt>\n",
       "                <dd><code>week4-practice-app</code></dd>\n",
       "            </dl>\n",
       "        </div>\n",
       "        \n",
       "            </div>\n",
       "        "
      ],
      "text/plain": [
       "<pyspark.sql.session.SparkSession at 0x775641e5bb60>"
      ]
     },
     "execution_count": 4,
     "metadata": {},
     "output_type": "execute_result"
    }
   ],
   "source": [
    "spark_session"
   ]
  },
  {
   "cell_type": "code",
   "execution_count": 7,
   "id": "293280fa-5498-427d-ac16-446f42322f38",
   "metadata": {},
   "outputs": [],
   "source": [
    "sc = spark_session.sparkContext\n",
    "testdata_rdd = sc.textFile(\"./data/testdata.txt\")\n",
    "wordcounts = testdata_rdd.filter(lambda line: len(line) > 0) \\\n",
    "    .flatMap(lambda line: re.split(r'\\W+', line)) \\\n",
    "    .filter(lambda word: len(word) > 0) \\\n",
    "    .map(lambda word:(word.lower(),1)) \\\n",
    "    .reduceByKey(lambda v1, v2: v1 + v2) \\\n",
    "    .map(lambda x: (x[1],x[0])) \\\n",
    "    .sortByKey(ascending=False)"
   ]
  },
  {
   "cell_type": "code",
   "execution_count": 10,
   "id": "7d3a09f0-22de-46ca-b748-2b6d4b3b67ae",
   "metadata": {},
   "outputs": [
    {
     "name": "stdout",
     "output_type": "stream",
     "text": [
      "[(16, 'the'), (14, 'if'), (12, 'bash'), (12, 'in'), (12, 'alias')]\n",
      "The top five words are : ['the', 'if', 'bash', 'in', 'alias']\n"
     ]
    }
   ],
   "source": [
    "top5words = wordcounts.take(5)\n",
    "print(top5words)\n",
    "justwords = []\n",
    "for wordsandcounts in top5words:\n",
    "\tjustwords.append(wordsandcounts[1])\n",
    "print(\"The top five words are : \" + str(justwords))"
   ]
  },
  {
   "cell_type": "code",
   "execution_count": null,
   "id": "228ebd43-589e-43a6-b736-3b65998d0f4b",
   "metadata": {},
   "outputs": [],
   "source": []
  }
 ],
 "metadata": {
  "kernelspec": {
   "display_name": "Python 3 (ipykernel)",
   "language": "python",
   "name": "python3"
  },
  "language_info": {
   "codemirror_mode": {
    "name": "ipython",
    "version": 3
   },
   "file_extension": ".py",
   "mimetype": "text/x-python",
   "name": "python",
   "nbconvert_exporter": "python",
   "pygments_lexer": "ipython3",
   "version": "3.13.7"
  }
 },
 "nbformat": 4,
 "nbformat_minor": 5
}
